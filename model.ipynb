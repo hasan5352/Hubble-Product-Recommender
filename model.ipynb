{
 "cells": [
  {
   "cell_type": "markdown",
   "metadata": {},
   "source": [
    "# Process"
   ]
  },
  {
   "cell_type": "code",
   "execution_count": 1,
   "metadata": {},
   "outputs": [],
   "source": [
    "#  standardize or normalize every numerical feature\n",
    "# extract features from the names and add in seperate keywords column\n",
    "# fill in actual_price of all instances\n",
    "# should we remove instances?\n",
    "# Vectorization \n",
    "\n",
    "\n",
    "# figure out if our model will need to handle Nan values\n",
    "# what model and techique to Use"
   ]
  },
  {
   "cell_type": "code",
   "execution_count": 2,
   "metadata": {},
   "outputs": [
    {
     "name": "stdout",
     "output_type": "stream",
     "text": [
      "Requirement already satisfied: nltk in c:\\users\\hp\\appdata\\local\\programs\\python\\python39\\lib\\site-packages (3.8.1)Note: you may need to restart the kernel to use updated packages.\n",
      "\n",
      "Requirement already satisfied: click in c:\\users\\hp\\appdata\\local\\programs\\python\\python39\\lib\\site-packages (from nltk) (8.0.1)\n",
      "Requirement already satisfied: joblib in c:\\users\\hp\\appdata\\local\\programs\\python\\python39\\lib\\site-packages (from nltk) (1.1.1)\n",
      "Requirement already satisfied: regex>=2021.8.3 in c:\\users\\hp\\appdata\\local\\programs\\python\\python39\\lib\\site-packages (from nltk) (2023.12.25)\n",
      "Requirement already satisfied: tqdm in c:\\users\\hp\\appdata\\local\\programs\\python\\python39\\lib\\site-packages (from nltk) (4.66.2)\n",
      "Requirement already satisfied: colorama in c:\\users\\hp\\appdata\\roaming\\python\\python39\\site-packages (from click->nltk) (0.4.6)\n"
     ]
    }
   ],
   "source": [
    "%pip install nltk\n",
    "import pandas as pd\n",
    "import numpy as np\n",
    "import matplotlib.pyplot as plt\n",
    "import os\n",
    "import re\n",
    "from nltk.stem import PorterStemmer\n",
    "import seaborn as sns\n",
    "from sklearn.preprocessing import StandardScaler, OneHotEncoder\n",
    "from sklearn.compose import ColumnTransformer\n",
    "from sklearn.feature_extraction.text import TfidfVectorizer, CountVectorizer\n",
    "from sklearn.impute import KNNImputer, SimpleImputer\n",
    "from sklearn.model_selection import train_test_split\n",
    "from sklearn.metrics.pairwise import cosine_similarity\n"
   ]
  },
  {
   "cell_type": "code",
   "execution_count": 3,
   "metadata": {},
   "outputs": [],
   "source": [
    "# converting csv files to dataframes which are values of a dict called dataframes. keys are csv file names\n",
    "\n",
    "def get_dfs_from_csvs(directory):\n",
    "    dataframes = {}\n",
    "    for filename in os.listdir(directory):             # get all csv files in directory\n",
    "        filepath = os.path.join(directory, filename)   # join file name with directory to acess files for df (directory/filenane)\n",
    "        df_name = os.path.splitext(filename)[0]        # remove extension .csv and give name of file\n",
    "        df_name = df_name.lower()\n",
    "        df = pd.read_csv(filepath)\n",
    "\n",
    "        if not df.empty: \n",
    "            dataframes[df_name] = df   # creates dfs of all non-empty files in a dict\n",
    "    return dataframes\n",
    "\n",
    "dataframes = get_dfs_from_csvs('data')"
   ]
  },
  {
   "cell_type": "code",
   "execution_count": 4,
   "metadata": {},
   "outputs": [
    {
     "data": {
      "text/html": [
       "<div>\n",
       "<style scoped>\n",
       "    .dataframe tbody tr th:only-of-type {\n",
       "        vertical-align: middle;\n",
       "    }\n",
       "\n",
       "    .dataframe tbody tr th {\n",
       "        vertical-align: top;\n",
       "    }\n",
       "\n",
       "    .dataframe thead th {\n",
       "        text-align: right;\n",
       "    }\n",
       "</style>\n",
       "<table border=\"1\" class=\"dataframe\">\n",
       "  <thead>\n",
       "    <tr style=\"text-align: right;\">\n",
       "      <th></th>\n",
       "      <th>name</th>\n",
       "      <th>main_category</th>\n",
       "      <th>sub_category</th>\n",
       "      <th>image</th>\n",
       "      <th>link</th>\n",
       "      <th>ratings</th>\n",
       "      <th>no_of_ratings</th>\n",
       "      <th>discount_price</th>\n",
       "      <th>actual_price</th>\n",
       "    </tr>\n",
       "  </thead>\n",
       "  <tbody>\n",
       "    <tr>\n",
       "      <th>0</th>\n",
       "      <td>Ravensburger 3D Puzzles Big Ben Night Edition,...</td>\n",
       "      <td>toys &amp; baby products</td>\n",
       "      <td>toys and games</td>\n",
       "      <td>https://m.media-amazon.com/images/W/IMAGERENDE...</td>\n",
       "      <td>https://www.amazon.in/Ravensburger-Puzzles-Nig...</td>\n",
       "      <td>4.6</td>\n",
       "      <td>5,017</td>\n",
       "      <td>NaN</td>\n",
       "      <td>₹6,752</td>\n",
       "    </tr>\n",
       "    <tr>\n",
       "      <th>1</th>\n",
       "      <td>Ravensburger San Juan Bopard Game</td>\n",
       "      <td>toys &amp; baby products</td>\n",
       "      <td>toys and games</td>\n",
       "      <td>https://m.media-amazon.com/images/W/IMAGERENDE...</td>\n",
       "      <td>https://www.amazon.in/Ravensburger-Board-Games...</td>\n",
       "      <td>4.5</td>\n",
       "      <td>413</td>\n",
       "      <td>₹7,391</td>\n",
       "      <td>₹11,600</td>\n",
       "    </tr>\n",
       "    <tr>\n",
       "      <th>2</th>\n",
       "      <td>WWE Elite Figure 1 Daniel Bryan, Black</td>\n",
       "      <td>toys &amp; baby products</td>\n",
       "      <td>toys and games</td>\n",
       "      <td>https://m.media-amazon.com/images/W/IMAGERENDE...</td>\n",
       "      <td>https://www.amazon.in/WWE-Elite-Figure-Daniel-...</td>\n",
       "      <td>4.2</td>\n",
       "      <td>30</td>\n",
       "      <td>NaN</td>\n",
       "      <td>₹11,823</td>\n",
       "    </tr>\n",
       "    <tr>\n",
       "      <th>3</th>\n",
       "      <td>Zometool Basic Creator Kit, Multi Color</td>\n",
       "      <td>toys &amp; baby products</td>\n",
       "      <td>toys and games</td>\n",
       "      <td>https://m.media-amazon.com/images/W/IMAGERENDE...</td>\n",
       "      <td>https://www.amazon.in/Zometool-Basic-Creator-M...</td>\n",
       "      <td>4.0</td>\n",
       "      <td>28</td>\n",
       "      <td>NaN</td>\n",
       "      <td>₹4,847</td>\n",
       "    </tr>\n",
       "    <tr>\n",
       "      <th>4</th>\n",
       "      <td>Snap Circuits Motion Kit</td>\n",
       "      <td>toys &amp; baby products</td>\n",
       "      <td>toys and games</td>\n",
       "      <td>https://m.media-amazon.com/images/W/IMAGERENDE...</td>\n",
       "      <td>https://www.amazon.in/Snap-Circuits-SCM-165-Mo...</td>\n",
       "      <td>4.8</td>\n",
       "      <td>583</td>\n",
       "      <td>NaN</td>\n",
       "      <td>₹12,516.90</td>\n",
       "    </tr>\n",
       "  </tbody>\n",
       "</table>\n",
       "</div>"
      ],
      "text/plain": [
       "                                                name         main_category  \\\n",
       "0  Ravensburger 3D Puzzles Big Ben Night Edition,...  toys & baby products   \n",
       "1                  Ravensburger San Juan Bopard Game  toys & baby products   \n",
       "2             WWE Elite Figure 1 Daniel Bryan, Black  toys & baby products   \n",
       "3            Zometool Basic Creator Kit, Multi Color  toys & baby products   \n",
       "4                           Snap Circuits Motion Kit  toys & baby products   \n",
       "\n",
       "     sub_category                                              image  \\\n",
       "0  toys and games  https://m.media-amazon.com/images/W/IMAGERENDE...   \n",
       "1  toys and games  https://m.media-amazon.com/images/W/IMAGERENDE...   \n",
       "2  toys and games  https://m.media-amazon.com/images/W/IMAGERENDE...   \n",
       "3  toys and games  https://m.media-amazon.com/images/W/IMAGERENDE...   \n",
       "4  toys and games  https://m.media-amazon.com/images/W/IMAGERENDE...   \n",
       "\n",
       "                                                link ratings no_of_ratings  \\\n",
       "0  https://www.amazon.in/Ravensburger-Puzzles-Nig...     4.6         5,017   \n",
       "1  https://www.amazon.in/Ravensburger-Board-Games...     4.5           413   \n",
       "2  https://www.amazon.in/WWE-Elite-Figure-Daniel-...     4.2            30   \n",
       "3  https://www.amazon.in/Zometool-Basic-Creator-M...     4.0            28   \n",
       "4  https://www.amazon.in/Snap-Circuits-SCM-165-Mo...     4.8           583   \n",
       "\n",
       "  discount_price actual_price  \n",
       "0            NaN       ₹6,752  \n",
       "1         ₹7,391      ₹11,600  \n",
       "2            NaN      ₹11,823  \n",
       "3            NaN       ₹4,847  \n",
       "4            NaN   ₹12,516.90  "
      ]
     },
     "execution_count": 4,
     "metadata": {},
     "output_type": "execute_result"
    }
   ],
   "source": [
    "# combining all of the toy datasets in one df because sub_category is different (shop names), otherwise they are same \n",
    "def combine_toyDF(dataframes):\n",
    "    toy_dfs = []\n",
    "    dfs_to_remove = []\n",
    "    for dataframe_name in dataframes:\n",
    "        if 'toy' in dataframe_name.lower():\n",
    "            toy_dfs.append(dataframes[dataframe_name])\n",
    "            dfs_to_remove.append(dataframe_name)\n",
    "\n",
    "    for dataframe_name in dfs_to_remove:      # remove all the dfs which will be combined\n",
    "        dataframes.pop(dataframe_name)\n",
    "\n",
    "    toy_df = pd.concat(toy_dfs, ignore_index=True)     # combining step\n",
    "    toy_df['sub_category'] = \"toys and games\"          # every value in the sub_category should be \"Toys and Games\"\n",
    "    dataframes[\"toys and games\"] = toy_df\n",
    "\n",
    "    return dataframes\n",
    "\n",
    "dataframes = combine_toyDF(dataframes)"
   ]
  },
  {
   "cell_type": "code",
   "execution_count": 5,
   "metadata": {},
   "outputs": [],
   "source": [
    "# Auxillary functions\n",
    "def extract_numbers(value):\n",
    "    number = int(''.join(re.findall('\\d', value)))\n",
    "\n",
    "    try:\n",
    "        return number\n",
    "    except:\n",
    "        return None\n",
    "    \n",
    "def stemming_words(text):\n",
    "    \"\"\" stems each word of text to its base word\n",
    "    \"\"\"\n",
    "    stemmer = PorterStemmer()\n",
    "    words = text.split(' ')\n",
    "    stemmed_words = []\n",
    "\n",
    "    for word in words:\n",
    "        stemmed_word = stemmer.stem(word)\n",
    "        stemmed_words.append(stemmed_word)\n",
    "\n",
    "    return ' '.join(stemmed_words)\n",
    "\n"
   ]
  },
  {
   "cell_type": "markdown",
   "metadata": {},
   "source": [
    "# Data Cleaning and organizing"
   ]
  },
  {
   "cell_type": "code",
   "execution_count": 6,
   "metadata": {},
   "outputs": [],
   "source": [
    "# from here ADD IN REPORT\n",
    "# 1. Removing unecessary columns\n",
    "#     necessary columns: \"name\", 'main_category', 'sub_category', 'ratings', 'no_of_ratings', 'actual_price', 'discount_price'\n",
    "\n",
    "# 2. removing ₹ signs and , from discount_price and actual_price\n",
    "# 3. removing , from no_of_ratings\n",
    "# 4. convert 'ratings', 'no_of_ratings', 'actual_price', 'discount_price' to float/int\n",
    "# 5. remove duplicates\n",
    "# 6. convert actual_price and discount_price to euros\n",
    "# 7. derive keywords from name - clean and stem them\n",
    "# 8. convert main_category and sub_category to lowercase and only get the words in these categories\n",
    "# 9 Impute missing vals\n",
    "imputer = SimpleImputer(strategy='mean')\n",
    "exchange_rate = 0.011\n",
    "for dataframe_name in dataframes:\n",
    "    # 1\n",
    "    df = dataframes[dataframe_name][['name', 'main_category', 'sub_category', 'ratings', 'no_of_ratings', 'actual_price', 'discount_price']].copy()  #copy to avoid affecting orignal df whichmight cause errors\n",
    "    # 2\n",
    "    df['actual_price'] = df['actual_price'].astype(str).str.replace('₹', '').str.replace(',', '')        # convert all column values to str first to avoid error\n",
    "    df['discount_price'] = df['discount_price'].astype(str).str.replace('₹', '').str.replace(',', '')\n",
    "    # 3\n",
    "    df['no_of_ratings'] = df['no_of_ratings'].astype(str).str.replace(',', '')     \n",
    "    # 4\n",
    "    df['no_of_ratings'] = pd.to_numeric(df['no_of_ratings'], errors ='coerce', downcast='integer')      # any value not converatble to float will be set to NaN (coerce)\n",
    "    df['ratings'] = pd.to_numeric(df['ratings'], errors='coerce')\n",
    "    df['actual_price'] = pd.to_numeric(df['actual_price'], errors='coerce')\n",
    "    df['discount_price'] = pd.to_numeric(df['discount_price'], errors='coerce')\n",
    "    # 5\n",
    "    df.drop_duplicates(inplace=True)\n",
    "    # 6\n",
    "    df['actual_price'] *= exchange_rate\n",
    "    df['discount_price'] *= exchange_rate\n",
    "    # 7\n",
    "    df['keywords'] = df['name'].str.lower().replace(r'[^\\w\\d\\s]', '', regex=True)    # removing everything from name which is not a word, digit or a space\n",
    "    df['keywords'] = df['keywords'].apply(stemming_words)\n",
    "    # 8\n",
    "    df['sub_category'] = df['sub_category'].str.lower().replace(r'[^\\w]', '', regex=True)    # removing everything from name which is not a word and combining words\n",
    "    df['main_category'] = df['main_category'].str.lower().replace(r'[^\\w]', '', regex=True)\n",
    "    # 9 \n",
    "    df['discount_price'].fillna(df['discount_price'].mean(), inplace=True)\n",
    "    df['no_of_ratings'].fillna(df['no_of_ratings'].mean(), inplace=True)\n",
    "    df['ratings'].fillna(df['ratings'].mean(), inplace=True)\n",
    "\n",
    "    dataframes[dataframe_name] = df\n",
    "\n",
    "\n",
    "# remove ₹ sign. convert to euros"
   ]
  },
  {
   "cell_type": "markdown",
   "metadata": {},
   "source": [
    "# CCA - dropping instances with missing values"
   ]
  },
  {
   "cell_type": "code",
   "execution_count": 38,
   "metadata": {},
   "outputs": [
    {
     "name": "stdout",
     "output_type": "stream",
     "text": [
      "No. of instances: 515531\n",
      "missing values: \n",
      " name                  0\n",
      "main_category         0\n",
      "sub_category          0\n",
      "ratings               0\n",
      "no_of_ratings         0\n",
      "actual_price      14276\n",
      "discount_price        0\n",
      "keywords              0\n",
      "dtype: int64\n",
      "Percentage of instances with missing values before CCA: 2.77%\n",
      "Percentage of instances with missing values in all columns with at least one missing value: 2.77%\n"
     ]
    }
   ],
   "source": [
    "# from here ADD IN REPORT\n",
    "# check how many total instances\n",
    "all_products = pd.concat(dataframes.values(), ignore_index=True)\n",
    "print(f\"No. of instances: {all_products.shape[0]}\")\n",
    "\n",
    "# from here ADD IN REPORT\n",
    "# we see that only these cols have missing vals: ratings, no_of_ratings, discount_price and actual_price \n",
    "missing_values = all_products.isnull().sum()\n",
    "print(\"missing values: \\n\",missing_values)\n",
    "\n",
    "# percent of instances that have missing values in atleast 1 column = 37.71%\n",
    "# Thus COMPLETE CASE ANALYSIS (CCA) -- (deleting instances with missing values) cannot be applied on data since 1/3rd of data has missing values  \n",
    "instances_with_missing_values = all_products.isnull().any(axis=1).sum()\n",
    "total_rows = len(all_products)\n",
    "percent_missing_instances = (instances_with_missing_values / total_rows) * 100\n",
    "print(\"Percentage of instances with missing values before CCA: {:.2f}%\".format(percent_missing_instances))\n",
    "\n",
    "# percent of instances that have missing values in all 4 columns above mentioned simultaneously = 1.52% -- we caould delete these instances \n",
    "\n",
    "columns_with_missing_values = all_products.columns[all_products.isnull().any()]\n",
    "instances_with_all_missing_values = all_products[all_products[columns_with_missing_values].isnull().all(axis=1)]\n",
    "percent_instances_all_missing_values = (len(instances_with_all_missing_values) / total_rows) * 100\n",
    "print(\"Percentage of instances with missing values in all columns with at least one missing value: {:.2f}%\".format(percent_instances_all_missing_values))"
   ]
  },
  {
   "cell_type": "code",
   "execution_count": 39,
   "metadata": {},
   "outputs": [
    {
     "name": "stdout",
     "output_type": "stream",
     "text": [
      "missing values: \n",
      " name              0.000000\n",
      "main_category     0.000000\n",
      "sub_category      0.000000\n",
      "ratings           0.000000\n",
      "no_of_ratings     0.000000\n",
      "actual_price      2.769184\n",
      "discount_price    0.000000\n",
      "keywords          0.000000\n",
      "dtype: float64\n"
     ]
    }
   ],
   "source": [
    "# from here ADD IN REPORT\n",
    "all_products_beforeCCA = all_products.copy()\n",
    "# Thus apply COMPLETE CASE ANALYSIS (CCA) on the 1.52% of data where simultaneously all 4 cols have missing values because it is < 5% -- research paper for this - I watched in a video\n",
    "subset = ['ratings', 'no_of_ratings', 'actual_price', 'discount_price']\n",
    "all_products.dropna(subset=subset, how='all', inplace=True)\n",
    "all_products.reset_index(drop=True, inplace=True)\n",
    "\n",
    "# percent of instances that have missing values per column before CCA\n",
    "missing_values = all_products.isnull().mean() * 100\n",
    "print(\"missing values: \\n\",missing_values)"
   ]
  },
  {
   "cell_type": "code",
   "execution_count": 40,
   "metadata": {},
   "outputs": [
    {
     "name": "stdout",
     "output_type": "stream",
     "text": [
      "Percentage of instances with missing values after CCA: 0.00%\n",
      "missing values: \n",
      " name              0.0\n",
      "main_category     0.0\n",
      "sub_category      0.0\n",
      "ratings           0.0\n",
      "no_of_ratings     0.0\n",
      "actual_price      0.0\n",
      "discount_price    0.0\n",
      "keywords          0.0\n",
      "dtype: float64\n"
     ]
    }
   ],
   "source": [
    "# from here ADD IN REPORT\n",
    "# apply COMPLETE CASE ANALYSIS (CCA) on actual_price because only 1.27% < 5% -- see above cell\n",
    "all_products.dropna(subset=['actual_price'], inplace=True)\n",
    "all_products.reset_index(drop=True, inplace=True)\n",
    "\n",
    "# percent of instances that have missing values in atleast 1 column after CCA = 35.93%\n",
    "instances_with_missing_values = all_products.isnull().any(axis=1).sum()\n",
    "total_rows = len(all_products)\n",
    "percent_missing_instances = (instances_with_missing_values / total_rows) * 100\n",
    "print(\"Percentage of instances with missing values after CCA: {:.2f}%\".format(percent_missing_instances))\n",
    "# percent of instances that have missing values per column before CCA\n",
    "missing_values = all_products.isnull().mean() * 100\n",
    "print(\"missing values: \\n\",missing_values)"
   ]
  },
  {
   "cell_type": "code",
   "execution_count": 41,
   "metadata": {},
   "outputs": [
    {
     "name": "stdout",
     "output_type": "stream",
     "text": [
      "Percentage of instances with missing values in ratings column also having missing values in no_of_ratings column: nan%\n",
      "Number of instances after CCA: 501255\n"
     ]
    },
    {
     "name": "stderr",
     "output_type": "stream",
     "text": [
      "C:\\Users\\Hp\\AppData\\Local\\Temp\\ipykernel_18468\\2439521076.py:5: RuntimeWarning: invalid value encountered in scalar divide\n",
      "  percentage = (missing_ratings_and_no_of_ratings / missing_ratings) * 100\n"
     ]
    }
   ],
   "source": [
    "# from here ADD IN REPORT\n",
    "# what percentage of the instances that have missing values in ratings column also have missing values in no_of_ratings\n",
    "missing_ratings_and_no_of_ratings = all_products[(all_products['ratings'].isnull()) & (all_products['no_of_ratings'].isnull())].shape[0]\n",
    "missing_ratings = all_products['ratings'].isnull().sum()\n",
    "percentage = (missing_ratings_and_no_of_ratings / missing_ratings) * 100\n",
    "\n",
    "print(\"Percentage of instances with missing values in ratings column also having missing values in no_of_ratings column: {:.2f}%\".format(percentage))\n",
    "print(f\"Number of instances after CCA: {all_products.shape[0]}\")\n",
    "# Answer 100% -- So cannot CCA on common instances with missing vals in ratings and no_of_ratings "
   ]
  },
  {
   "cell_type": "code",
   "execution_count": 42,
   "metadata": {},
   "outputs": [
    {
     "data": {
      "text/plain": [
       "<Figure size 1200x600 with 0 Axes>"
      ]
     },
     "metadata": {},
     "output_type": "display_data"
    },
    {
     "data": {
      "image/png": "[encoded data removed]",
      "text/plain": [
       "<Figure size 640x480 with 4 Axes>"
      ]
     },
     "metadata": {},
     "output_type": "display_data"
    },
    {
     "data": {
      "text/plain": [
       "<Figure size 1200x600 with 0 Axes>"
      ]
     },
     "metadata": {},
     "output_type": "display_data"
    },
    {
     "data": {
      "image/png": "[encoded data removed]",
      "text/plain": [
       "<Figure size 640x480 with 4 Axes>"
      ]
     },
     "metadata": {},
     "output_type": "display_data"
    }
   ],
   "source": [
    "# from here ADD IN REPORT -- side by side. blue one is before CCA, red is after CCA\n",
    "# Distribution in both is almost similar, thus performing CCA was the right choice!\n",
    "import matplotlib.pyplot as plt\n",
    "\n",
    "# Distribution of numerical features with missing values before CCA\n",
    "plt.figure(figsize=(12, 6))\n",
    "all_products_beforeCCA.hist(bins=10, density=True, color='lightblue')\n",
    "plt.tight_layout()\n",
    "plt.show()\n",
    "\n",
    "# Distribution of numerical features with missing values after CCA\n",
    "plt.figure(figsize=(12, 6))\n",
    "all_products.hist(bins=10, density=True, color='red', alpha=0.5)\n",
    "plt.tight_layout()\n",
    "plt.show()\n"
   ]
  },
  {
   "cell_type": "markdown",
   "metadata": {},
   "source": [
    "# Sampling 20k instances from whole dataset"
   ]
  },
  {
   "cell_type": "code",
   "execution_count": 12,
   "metadata": {},
   "outputs": [
    {
     "ename": "SyntaxError",
     "evalue": "invalid syntax (732443839.py, line 1)",
     "output_type": "error",
     "traceback": [
      "\u001b[1;36m  Cell \u001b[1;32mIn[12], line 1\u001b[1;36m\u001b[0m\n\u001b[1;33m    all_products.head(1) /!\u001b[0m\n\u001b[1;37m                          ^\u001b[0m\n\u001b[1;31mSyntaxError\u001b[0m\u001b[1;31m:\u001b[0m invalid syntax\n"
     ]
    }
   ],
   "source": [
    "all_products.head(1) /!"
   ]
  },
  {
   "cell_type": "code",
   "execution_count": 43,
   "metadata": {},
   "outputs": [],
   "source": [
    "# ADD TO REPORT\n",
    "# Performing STRATIFIED SAMPLING: Dividing population into subgroups (by subcategory) and then randomly selecting samples from each subcategory based on the proportion of instances \n",
    "# having that subcategory to the entire dataset (500k instances).  --- each instance in a subcategory has equal probability of getting selected --- formula for probability\n",
    "\n",
    "num_instances = 20000\n",
    "subcategory_proportions = all_products['sub_category'].value_counts(normalize=True)\n",
    "\n",
    "sampled_data = pd.DataFrame()\n",
    "for subcategory, proportion in subcategory_proportions.items():\n",
    "\n",
    "     \n",
    "    subcategory_data = all_products[all_products['sub_category'] == subcategory]     # get the instances where sub_category = subcategory\n",
    "\n",
    "    # Calculate the number of samples to take from this subcategory based upon its proportin to the entire dataset and how many total instances we want to have in final dataset\n",
    "    num_samples = int(proportion * num_instances)\n",
    "\n",
    "    # Sample the required number of instances from this subcategory \n",
    "    subcategory_samples = subcategory_data.sample(n=num_samples, random_state=42)\n",
    "\n",
    "    # Add the sampled data for this subcategory to the overall sampled dataset\n",
    "    sampled_data = pd.concat([sampled_data, subcategory_samples])\n",
    "\n",
    "# Shuffle the sampled data to ensure randomness\n",
    "all_products = sampled_data.sample(frac=1, random_state=42)"
   ]
  },
  {
   "cell_type": "code",
   "execution_count": null,
   "metadata": {},
   "outputs": [
    {
     "data": {
      "text/plain": [
       "(501255, 8)"
      ]
     },
     "execution_count": 11,
     "metadata": {},
     "output_type": "execute_result"
    }
   ],
   "source": [
    "all_products.shape"
   ]
  },
  {
   "cell_type": "code",
   "execution_count": null,
   "metadata": {},
   "outputs": [
    {
     "data": {
      "image/png": "[encoded data removed]",
      "text/plain": [
       "<Figure size 640x480 with 1 Axes>"
      ]
     },
     "metadata": {},
     "output_type": "display_data"
    }
   ],
   "source": [
    "numerical_features = ['ratings', 'no_of_ratings', 'discount_price', 'actual_price']\n",
    "all_products[numerical_features].boxplot()\n",
    "plt.title('Box Plot of Numerical Features')\n",
    "plt.xlabel('Features ')\n",
    "plt.ylabel('Feature Values')\n",
    "plt.grid(True)\n",
    "plt.tight_layout()\n",
    "plt.show()\n"
   ]
  },
  {
   "cell_type": "code",
   "execution_count": null,
   "metadata": {},
   "outputs": [
    {
     "name": "stdout",
     "output_type": "stream",
     "text": [
      "Skewness of 'no_of_ratings' column: 41.21315338963986\n"
     ]
    }
   ],
   "source": [
    "import pandas as pd\n",
    "\n",
    "# Assuming 'all_products' is your DataFrame\n",
    "skewness = all_products['no_of_ratings'].skew()\n",
    "print(\"Skewness of 'no_of_ratings' column:\", skewness)\n"
   ]
  },
  {
   "cell_type": "code",
   "execution_count": null,
   "metadata": {},
   "outputs": [],
   "source": [
    "print(all_products.describe())"
   ]
  },
  {
   "cell_type": "code",
   "execution_count": null,
   "metadata": {},
   "outputs": [
    {
     "data": {
      "image/png": "[encoded data removed]",
      "text/plain": [
       "<Figure size 800x600 with 1 Axes>"
      ]
     },
     "metadata": {},
     "output_type": "display_data"
    }
   ],
   "source": [
    "import matplotlib.pyplot as plt\n",
    "\n",
    "# Assuming 'all_products' is your DataFrame\n",
    "plt.figure(figsize=(8, 6))\n",
    "plt.hist(all_products['no_of_ratings'], bins=30, color='skyblue', edgecolor='black')\n",
    "plt.title('Distribution of no_of_ratings')\n",
    "plt.xlabel('Number of Ratings')\n",
    "plt.ylabel('Frequency')\n",
    "plt.grid(True)\n",
    "plt.show()\n"
   ]
  },
  {
   "cell_type": "markdown",
   "metadata": {},
   "source": [
    "# Encoding - One-hot and tfidf"
   ]
  },
  {
   "cell_type": "code",
   "execution_count": null,
   "metadata": {},
   "outputs": [
    {
     "name": "stdout",
     "output_type": "stream",
     "text": [
      "Number of main categories:  20\n",
      "Number of sub categories:  109 \n",
      "\n"
     ]
    }
   ],
   "source": [
    "# from here ADD IN REPORT\n",
    "\n",
    "# check how many main and sub categories to determine in how many features will main_category and sub_category be expanded by One-hot encoding -- ADD IN REPORT\n",
    "print('Number of main categories: ', all_products['main_category'].nunique())\n",
    "print('Number of sub categories: ', all_products['sub_category'].nunique(), '\\n')"
   ]
  },
  {
   "cell_type": "code",
   "execution_count": 44,
   "metadata": {},
   "outputs": [
    {
     "name": "stderr",
     "output_type": "stream",
     "text": [
      "c:\\Users\\Hp\\AppData\\Local\\Programs\\Python\\Python39\\lib\\site-packages\\sklearn\\feature_extraction\\text.py:2060: UserWarning: Only (<class 'numpy.float64'>, <class 'numpy.float32'>, <class 'numpy.float16'>) 'dtype' should be used. <class 'numpy.int32'> 'dtype' will be converted to np.float64.\n",
      "  warnings.warn(\n"
     ]
    }
   ],
   "source": [
    "# from here ADD IN REPORT\n",
    "\n",
    "# 2 Encode the textual features in order to convert them to numerical. \n",
    "#   2.1 -- main_category and sub_category are categorical, thus we can use one-hot Encoding, Label Encoding or Target Encoding. - Explain shortly about all.\n",
    "#           we will use one-hot Encoding as these features are nominal and not ordinal. - explain what nominal data means. Inspiration link: https://www.youtube.com/watch?v=U5oCv3JKWKA\n",
    "#           drop first column of encoded columns to avoid multicollinearity issues. (dummy variable trap) -- explain precisely(read about OH-encoding first)\n",
    "#   2.2 -- keywords is not categorical and is important for identifying a product. Thus use TF-IDF Vectorization to encode. - Write formula of TF and IDF and explain. \n",
    "#           sklearns TfidfVectorizer adds 1 to idf of a term so that value that occurs in all documents does not become redundant = 0\n",
    "#           inspiration: https://www.youtube.com/watch?v=vo6gQz5lYRI\n",
    "#           Bag of Words technique using CountVectorizer() gives us more (5000) features in a dense matrix with less memory consumption but chatGPT told that Tfidf is better even in a sparse matrix format -- find research paper on this\n",
    "\n",
    "\n",
    "# 2.1 keep in mind that after the encoding, the columns on which encoding is not applied will be renamed as remainder__column_name. example: remainder__keywords\n",
    "\n",
    "def oneHotEncode(all_products): \n",
    "    transformer = ColumnTransformer(transformers=[            # using ColumnTransformer to encode in one line without needing to combine columns manually.\n",
    "        ('ohTransformer', OneHotEncoder(sparse_output=False, drop='first', dtype=np.int32), ['main_category', 'sub_category'])   # (transformer name, encoder type, columns to encode). # avoid sparse matrix and drop first column due to multicollinearity issue\n",
    "    ], remainder='passthrough')   # remainder parameter for not dropping other columns.\n",
    "\n",
    "    transformed_matrix = transformer.fit_transform(all_products)\n",
    "\n",
    "    encoded_column_names = transformer.get_feature_names_out()\n",
    "    return pd.DataFrame(transformed_matrix, columns=encoded_column_names)\n",
    "    \n",
    "all_products = oneHotEncode(all_products)\n",
    "all_products2 = all_products.copy()               # create a copy for safety\n",
    "all_products2.drop(columns=['remainder__keywords'], inplace=True)\n",
    "# 2.2\n",
    "tfidf_vectorizer = TfidfVectorizer(max_features=5000,stop_words='english',dtype=np.int32)   # using 10k max_words on intuition -- needs experiment. each keyword is now a vector of 10k dimensions\n",
    "tfidf_vectorizer.fit(all_products['remainder__keywords'])\n",
    "vectors = tfidf_vectorizer.transform(all_products['remainder__keywords'])     # using sparse matrix because dense matrix takes too much memory  \n",
    "tfidf_column_names = tfidf_vectorizer.get_feature_names_out()\n",
    "vector_df = pd.DataFrame.sparse.from_spmatrix(vectors, columns=tfidf_column_names)\n",
    "\n",
    "all_products = pd.concat([vector_df, all_products2], axis=1)       # combine the vectors which are expanded columns of the keywords column with the other columns"
   ]
  },
  {
   "cell_type": "code",
   "execution_count": 45,
   "metadata": {},
   "outputs": [
    {
     "data": {
      "text/plain": [
       "(9944, 5129)"
      ]
     },
     "execution_count": 45,
     "metadata": {},
     "output_type": "execute_result"
    }
   ],
   "source": [
    "all_products.shape"
   ]
  },
  {
   "cell_type": "markdown",
   "metadata": {},
   "source": [
    "# Normalization"
   ]
  },
  {
   "cell_type": "code",
   "execution_count": 46,
   "metadata": {},
   "outputs": [],
   "source": [
    "# Normalize the numerical features. Normalization chosen because no_of_ratings has outliers. \n",
    "# Normalization scales the features 0 and 1 which is less influenced by extreme values. Add formula. Add research paper.\n",
    "\n",
    "from sklearn.preprocessing import MinMaxScaler\n",
    "\n",
    "def featureScaling(df, columnsToScale, scaler_type):\n",
    "    scaler_object = scaler_type()\n",
    "    df[columnsToScale] = scaler_object.fit_transform(df[columnsToScale])\n",
    "\n",
    "columnsToNormalize = ['remainder__actual_price', 'remainder__discount_price', 'remainder__no_of_ratings', 'remainder__ratings']\n",
    "featureScaling(all_products, columnsToNormalize, MinMaxScaler)     # MinMaxScaler for Normalization"
   ]
  },
  {
   "cell_type": "code",
   "execution_count": 20,
   "metadata": {},
   "outputs": [
    {
     "data": {
      "text/plain": [
       "(501255, 5132)"
      ]
     },
     "execution_count": 20,
     "metadata": {},
     "output_type": "execute_result"
    }
   ],
   "source": [
    "all_products.shape"
   ]
  },
  {
   "cell_type": "code",
   "execution_count": 21,
   "metadata": {},
   "outputs": [
    {
     "data": {
      "text/html": [
       "<div>\n",
       "<style scoped>\n",
       "    .dataframe tbody tr th:only-of-type {\n",
       "        vertical-align: middle;\n",
       "    }\n",
       "\n",
       "    .dataframe tbody tr th {\n",
       "        vertical-align: top;\n",
       "    }\n",
       "\n",
       "    .dataframe thead th {\n",
       "        text-align: right;\n",
       "    }\n",
       "</style>\n",
       "<table border=\"1\" class=\"dataframe\">\n",
       "  <thead>\n",
       "    <tr style=\"text-align: right;\">\n",
       "      <th></th>\n",
       "      <th>001</th>\n",
       "      <th>002</th>\n",
       "      <th>01</th>\n",
       "      <th>02</th>\n",
       "      <th>03</th>\n",
       "      <th>04</th>\n",
       "      <th>05</th>\n",
       "      <th>06</th>\n",
       "      <th>07</th>\n",
       "      <th>08</th>\n",
       "      <th>...</th>\n",
       "      <th>ohTransformer__sub_category_washingmachines</th>\n",
       "      <th>ohTransformer__sub_category_watches</th>\n",
       "      <th>ohTransformer__sub_category_westernwear</th>\n",
       "      <th>ohTransformer__sub_category_womensfashion</th>\n",
       "      <th>ohTransformer__sub_category_yoga</th>\n",
       "      <th>remainder__name</th>\n",
       "      <th>remainder__ratings</th>\n",
       "      <th>remainder__no_of_ratings</th>\n",
       "      <th>remainder__actual_price</th>\n",
       "      <th>remainder__discount_price</th>\n",
       "    </tr>\n",
       "  </thead>\n",
       "  <tbody>\n",
       "    <tr>\n",
       "      <th>0</th>\n",
       "      <td>0.0</td>\n",
       "      <td>0.0</td>\n",
       "      <td>0.0</td>\n",
       "      <td>0.0</td>\n",
       "      <td>0.0</td>\n",
       "      <td>0.0</td>\n",
       "      <td>0.0</td>\n",
       "      <td>0.0</td>\n",
       "      <td>0.0</td>\n",
       "      <td>0.0</td>\n",
       "      <td>...</td>\n",
       "      <td>0</td>\n",
       "      <td>0</td>\n",
       "      <td>0</td>\n",
       "      <td>0</td>\n",
       "      <td>0</td>\n",
       "      <td>Lloyd 1.5 Ton 3 Star Inverter Split Ac (5 In 1...</td>\n",
       "      <td>0.8</td>\n",
       "      <td>0.003823</td>\n",
       "      <td>0.000006</td>\n",
       "      <td>0.026393</td>\n",
       "    </tr>\n",
       "  </tbody>\n",
       "</table>\n",
       "<p>1 rows × 5132 columns</p>\n",
       "</div>"
      ],
      "text/plain": [
       "   001  002   01   02   03   04   05   06   07   08  ...  \\\n",
       "0  0.0  0.0  0.0  0.0  0.0  0.0  0.0  0.0  0.0  0.0  ...   \n",
       "\n",
       "   ohTransformer__sub_category_washingmachines  \\\n",
       "0                                            0   \n",
       "\n",
       "   ohTransformer__sub_category_watches  \\\n",
       "0                                    0   \n",
       "\n",
       "   ohTransformer__sub_category_westernwear  \\\n",
       "0                                        0   \n",
       "\n",
       "   ohTransformer__sub_category_womensfashion  \\\n",
       "0                                          0   \n",
       "\n",
       "   ohTransformer__sub_category_yoga  \\\n",
       "0                                 0   \n",
       "\n",
       "                                     remainder__name  remainder__ratings  \\\n",
       "0  Lloyd 1.5 Ton 3 Star Inverter Split Ac (5 In 1...                 0.8   \n",
       "\n",
       "   remainder__no_of_ratings  remainder__actual_price  \\\n",
       "0                  0.003823                 0.000006   \n",
       "\n",
       "   remainder__discount_price  \n",
       "0                   0.026393  \n",
       "\n",
       "[1 rows x 5132 columns]"
      ]
     },
     "execution_count": 21,
     "metadata": {},
     "output_type": "execute_result"
    }
   ],
   "source": [
    "all_products.head(1)"
   ]
  },
  {
   "cell_type": "markdown",
   "metadata": {},
   "source": [
    "# Similarity"
   ]
  },
  {
   "cell_type": "code",
   "execution_count": 48,
   "metadata": {},
   "outputs": [
    {
     "name": "stderr",
     "output_type": "stream",
     "text": [
      "C:\\Users\\Hp\\AppData\\Local\\Temp\\ipykernel_18468\\1957202407.py:4: FutureWarning: The behavior of .astype from SparseDtype to a non-sparse dtype is deprecated. In a future version, this will return a non-sparse array with the requested dtype. To retain the old behavior, use `obj.astype(SparseDtype(dtype))`\n",
      "  products_matrix = products_for_similarity.values\n"
     ]
    },
    {
     "data": {
      "text/plain": [
       "(9944, 5128)"
      ]
     },
     "execution_count": 48,
     "metadata": {},
     "output_type": "execute_result"
    }
   ],
   "source": [
    "all_products_copy = all_products.copy()\n",
    "name_column = all_products_copy['remainder__name'].copy() # Save the 'name' column in a variable\n",
    "products_for_similarity = all_products_copy.drop(columns=['remainder__name']).copy() # Drop the 'name' column from all_products\n",
    "products_matrix = products_for_similarity.values\n",
    "\n",
    "products_for_similarity.shape"
   ]
  },
  {
   "cell_type": "code",
   "execution_count": 24,
   "metadata": {},
   "outputs": [
    {
     "name": "stdout",
     "output_type": "stream",
     "text": [
      "0\n"
     ]
    }
   ],
   "source": [
    "batch_size = 10000\n",
    "partitions = []\n",
    "\n",
    "for i in range(0, len(products_for_similarity), batch_size):\n",
    "    print(i)\n",
    "    break\n",
    "    partition = products_for_similarity.iloc[i:i+batch_size]\n",
    "    partitions.append(partition)\n",
    "\n"
   ]
  },
  {
   "cell_type": "code",
   "execution_count": 49,
   "metadata": {},
   "outputs": [
    {
     "name": "stderr",
     "output_type": "stream",
     "text": [
      "c:\\Users\\Hp\\AppData\\Local\\Programs\\Python\\Python39\\lib\\site-packages\\sklearn\\metrics\\pairwise.py:45: FutureWarning: The behavior of .astype from SparseDtype to a non-sparse dtype is deprecated. In a future version, this will return a non-sparse array with the requested dtype. To retain the old behavior, use `obj.astype(SparseDtype(dtype))`\n",
      "  X = np.asarray(X)\n"
     ]
    },
    {
     "data": {
      "text/plain": [
       "(9944, 9944)"
      ]
     },
     "execution_count": 49,
     "metadata": {},
     "output_type": "execute_result"
    }
   ],
   "source": [
    "# calculate the similarity of each instance to every other instance and store those instances in a vector. do this for every instance. Now each instance becomes a vector\n",
    "# of n-1 elements with n = number of instances. Sort these vectors and u get the closest instances in the beginning of each vector.\n",
    "\n",
    "# FIRST DO with COSINE_CIMILARITY and compute precision for the recommendations made. Then try different hyperparameters for KNN and compute precision of \n",
    "# recommendations for each hyperparameter chosen. When we get highest precision, that hyperparameter is the best. Impute all values with that hyperparameter\n",
    "# Then do evaluation for all other similarity metrics\n",
    "\n",
    "\n",
    "# convert dataframe to matrix\n",
    "\n",
    "# 1 COSINE SIMILARITY\n",
    "\n",
    "cosine_matrix = cosine_similarity(products_for_similarity)\n",
    "cosine_matrix.shape"
   ]
  },
  {
   "cell_type": "code",
   "execution_count": 50,
   "metadata": {},
   "outputs": [],
   "source": [
    "def cosine_recommend(product_name, n):\n",
    "    \"\"\" fetches the titles of n most similar movies to movie_name and returns in a list\n",
    "    \"\"\"\n",
    "    product_name = product_name.lower()\n",
    "    product_index = all_products_copy[all_products_copy['remainder__name'].str.lower() == product_name].index[0]        # get index of the row in data in which remainder__name = product_name \n",
    "    distances = cosine_matrix[product_index]                          # get similarity array of requested product \n",
    "    index_tracker_products = list(enumerate(distances))              # tracing index of products along with the similarity scores wrt requested product\n",
    "    nearest_product_scores = sorted(index_tracker_products, reverse=True,key=lambda x: x[1])[1:n+1]      # picking n most similar products (excluding the requested product itself)\n",
    "\n",
    "    nearest_product_indices = [product[0] for product in nearest_product_scores]\n",
    "    \n",
    "    nearest_product_names = [all_products_copy.iloc[i].remainder__name for i in nearest_product_indices]\n",
    "\n",
    "    return nearest_product_names"
   ]
  },
  {
   "cell_type": "code",
   "execution_count": 51,
   "metadata": {},
   "outputs": [
    {
     "data": {
      "text/plain": [
       "0.5477225575051661"
      ]
     },
     "execution_count": 51,
     "metadata": {},
     "output_type": "execute_result"
    }
   ],
   "source": [
    "def cosine_sim(A, B):\n",
    "    euclideanNorm_A = 0\n",
    "    euclideanNorm_B = 0\n",
    "    dot_product = 0\n",
    "    for i in range(len(A)):\n",
    "        euclideanNorm_A += A[i]**2\n",
    "        euclideanNorm_B += B[i]**2\n",
    "        dot_product += (A[i]*B[i]) \n",
    "\n",
    "    euclideanNorm_A = np.sqrt(euclideanNorm_A)\n",
    "    euclideanNorm_B = np.sqrt(euclideanNorm_B)\n",
    "    similarity = dot_product / (euclideanNorm_A*euclideanNorm_B)\n",
    "    return similarity\n",
    "\n",
    "cosine_sim([-1,2,0], [1,2,1])"
   ]
  },
  {
   "cell_type": "code",
   "execution_count": 101,
   "metadata": {},
   "outputs": [],
   "source": [
    "def cosine_sim2(A, B):\n",
    "    dot_product = np.sum(A * B)\n",
    "    euclideanNorm_A = np.sqrt(np.sum(A**2))\n",
    "    euclideanNorm_B = np.sqrt(np.sum(B**2))\n",
    "    similarity = dot_product / (euclideanNorm_A * euclideanNorm_B)\n",
    "    return similarity"
   ]
  },
  {
   "cell_type": "code",
   "execution_count": 105,
   "metadata": {},
   "outputs": [],
   "source": [
    "def cosine_recommend2(product_name, n):\n",
    "    \"\"\" fetches the titles of n most similar movies to movie_name and returns in a list\n",
    "    \"\"\"\n",
    "    product_name = product_name.lower()\n",
    "    product_index = all_products_copy[all_products_copy['remainder__name'].str.lower() == product_name].index[0]        # get index of the row in data in which remainder__name = product_name \n",
    "    \n",
    "    product_row = products_for_similarity.iloc[product_index].values.reshape(1, -1)            # get the instance whose name is requested as an array using product_index\n",
    "\n",
    "    similarity_arr = cosine_similarity(product_row, products_for_similarity).flatten()\n",
    "\n",
    "    # for i in range(len(products_for_similarity)):\n",
    "    #     other_row = products_for_similarity.iloc[i].values\n",
    "    #     similarity = cosine_sim(product_row, other_row)\n",
    "    #     similarity_arr.append((i, similarity))\n",
    "\n",
    "\n",
    "    nearest_product_scores = sorted(similarity_arr, reverse=True,key=lambda x: x[1])[1:n+1]      # picking n most similar products (excluding the requested product itself)\n",
    "\n",
    "    nearest_product_indices = [product[0] for product in nearest_product_scores]\n",
    "    \n",
    "    nearest_product_names = [all_products_copy.iloc[i].remainder__name for i in nearest_product_indices]\n",
    "\n",
    "    return nearest_product_names"
   ]
  },
  {
   "cell_type": "code",
   "execution_count": 65,
   "metadata": {},
   "outputs": [
    {
     "data": {
      "text/html": [
       "<div>\n",
       "<style scoped>\n",
       "    .dataframe tbody tr th:only-of-type {\n",
       "        vertical-align: middle;\n",
       "    }\n",
       "\n",
       "    .dataframe tbody tr th {\n",
       "        vertical-align: top;\n",
       "    }\n",
       "\n",
       "    .dataframe thead th {\n",
       "        text-align: right;\n",
       "    }\n",
       "</style>\n",
       "<table border=\"1\" class=\"dataframe\">\n",
       "  <thead>\n",
       "    <tr style=\"text-align: right;\">\n",
       "      <th></th>\n",
       "      <th>001</th>\n",
       "      <th>002</th>\n",
       "      <th>01</th>\n",
       "      <th>02</th>\n",
       "      <th>025</th>\n",
       "      <th>03</th>\n",
       "      <th>04</th>\n",
       "      <th>05</th>\n",
       "      <th>06</th>\n",
       "      <th>061384</th>\n",
       "      <th>...</th>\n",
       "      <th>ohTransformer__sub_category_wallets</th>\n",
       "      <th>ohTransformer__sub_category_washingmachines</th>\n",
       "      <th>ohTransformer__sub_category_watches</th>\n",
       "      <th>ohTransformer__sub_category_westernwear</th>\n",
       "      <th>ohTransformer__sub_category_womensfashion</th>\n",
       "      <th>ohTransformer__sub_category_yoga</th>\n",
       "      <th>remainder__ratings</th>\n",
       "      <th>remainder__no_of_ratings</th>\n",
       "      <th>remainder__actual_price</th>\n",
       "      <th>remainder__discount_price</th>\n",
       "    </tr>\n",
       "  </thead>\n",
       "  <tbody>\n",
       "    <tr>\n",
       "      <th>0</th>\n",
       "      <td>0.0</td>\n",
       "      <td>0.0</td>\n",
       "      <td>0.0</td>\n",
       "      <td>0.0</td>\n",
       "      <td>0.0</td>\n",
       "      <td>0.0</td>\n",
       "      <td>0.0</td>\n",
       "      <td>0.0</td>\n",
       "      <td>0.0</td>\n",
       "      <td>0.0</td>\n",
       "      <td>...</td>\n",
       "      <td>0</td>\n",
       "      <td>0</td>\n",
       "      <td>0</td>\n",
       "      <td>0</td>\n",
       "      <td>0</td>\n",
       "      <td>0</td>\n",
       "      <td>0.711519</td>\n",
       "      <td>0.000613</td>\n",
       "      <td>0.003153</td>\n",
       "      <td>0.002104</td>\n",
       "    </tr>\n",
       "  </tbody>\n",
       "</table>\n",
       "<p>1 rows × 5128 columns</p>\n",
       "</div>"
      ],
      "text/plain": [
       "   001  002   01   02  025   03   04   05   06  061384  ...  \\\n",
       "0  0.0  0.0  0.0  0.0  0.0  0.0  0.0  0.0  0.0     0.0  ...   \n",
       "\n",
       "   ohTransformer__sub_category_wallets  \\\n",
       "0                                    0   \n",
       "\n",
       "   ohTransformer__sub_category_washingmachines  \\\n",
       "0                                            0   \n",
       "\n",
       "   ohTransformer__sub_category_watches  \\\n",
       "0                                    0   \n",
       "\n",
       "   ohTransformer__sub_category_westernwear  \\\n",
       "0                                        0   \n",
       "\n",
       "   ohTransformer__sub_category_womensfashion  \\\n",
       "0                                          0   \n",
       "\n",
       "   ohTransformer__sub_category_yoga  remainder__ratings  \\\n",
       "0                                 0            0.711519   \n",
       "\n",
       "   remainder__no_of_ratings  remainder__actual_price  \\\n",
       "0                  0.000613                 0.003153   \n",
       "\n",
       "   remainder__discount_price  \n",
       "0                   0.002104  \n",
       "\n",
       "[1 rows x 5128 columns]"
      ]
     },
     "execution_count": 65,
     "metadata": {},
     "output_type": "execute_result"
    }
   ],
   "source": [
    "products_for_similarity.head(1)"
   ]
  },
  {
   "cell_type": "code",
   "execution_count": 53,
   "metadata": {},
   "outputs": [],
   "source": [
    "input_name = all_products_copy['remainder__name'].iloc[500]"
   ]
  },
  {
   "cell_type": "code",
   "execution_count": 79,
   "metadata": {},
   "outputs": [
    {
     "data": {
      "text/plain": [
       "'EASYDEX Ph Pen Teste Thzy High Accuracy Pocket Size Ph Meter With Atc'"
      ]
     },
     "execution_count": 79,
     "metadata": {},
     "output_type": "execute_result"
    }
   ],
   "source": [
    "all_products_copy.iloc[0].values[-5]"
   ]
  },
  {
   "cell_type": "code",
   "execution_count": 55,
   "metadata": {},
   "outputs": [
    {
     "data": {
      "text/plain": [
       "['Salepush Travel Foldable Hand Bag Large Capacity Folding Travel Bag, Travel Lightweight Waterproof Carry Duffel Luggage Ba...',\n",
       " 'Arrowmax Gym Duffle Bag Shoulder Bag Bags Travel Duffel Bags, Ideal for Gym/Swimming and Other Sports kit',\n",
       " 'Akshar Seven Leather Bag Travel Duffle for Men and Women tylish Trendy Travel Bag for Men Women Duffle Travelling Bag Duff...',\n",
       " '5 kg Capacity | Kirana Bags | Grocery Bags| Food Storage Bags | Plastic Bags | LD Bags/LDPE Bags | 13 inch. x 19 inch. x 5...',\n",
       " 'SZONZ Travel Bags Lightweight Foldable Waterproof Shoulder Handbag,Clothes Storage Duffle Bag Organizer,Travel Bag Luggage...']"
      ]
     },
     "execution_count": 55,
     "metadata": {},
     "output_type": "execute_result"
    }
   ],
   "source": [
    "# Test\n",
    "\n",
    "cosine_recommend(input_name, 5)\n"
   ]
  },
  {
   "cell_type": "code",
   "execution_count": 106,
   "metadata": {},
   "outputs": [
    {
     "ename": "AttributeError",
     "evalue": "'SparseArray' object has no attribute 'reshape'",
     "output_type": "error",
     "traceback": [
      "\u001b[1;31m---------------------------------------------------------------------------\u001b[0m",
      "\u001b[1;31mAttributeError\u001b[0m                            Traceback (most recent call last)",
      "Cell \u001b[1;32mIn[106], line 1\u001b[0m\n\u001b[1;32m----> 1\u001b[0m \u001b[43mcosine_recommend2\u001b[49m\u001b[43m(\u001b[49m\u001b[43minput_name\u001b[49m\u001b[43m,\u001b[49m\u001b[43m \u001b[49m\u001b[38;5;241;43m5\u001b[39;49m\u001b[43m)\u001b[49m\n",
      "Cell \u001b[1;32mIn[105], line 7\u001b[0m, in \u001b[0;36mcosine_recommend2\u001b[1;34m(product_name, n)\u001b[0m\n\u001b[0;32m      4\u001b[0m product_name \u001b[38;5;241m=\u001b[39m product_name\u001b[38;5;241m.\u001b[39mlower()\n\u001b[0;32m      5\u001b[0m product_index \u001b[38;5;241m=\u001b[39m all_products_copy[all_products_copy[\u001b[38;5;124m'\u001b[39m\u001b[38;5;124mremainder__name\u001b[39m\u001b[38;5;124m'\u001b[39m]\u001b[38;5;241m.\u001b[39mstr\u001b[38;5;241m.\u001b[39mlower() \u001b[38;5;241m==\u001b[39m product_name]\u001b[38;5;241m.\u001b[39mindex[\u001b[38;5;241m0\u001b[39m]        \u001b[38;5;66;03m# get index of the row in data in which remainder__name = product_name \u001b[39;00m\n\u001b[1;32m----> 7\u001b[0m product_row \u001b[38;5;241m=\u001b[39m \u001b[43mproducts_for_similarity\u001b[49m\u001b[38;5;241;43m.\u001b[39;49m\u001b[43miloc\u001b[49m\u001b[43m[\u001b[49m\u001b[43mproduct_index\u001b[49m\u001b[43m]\u001b[49m\u001b[38;5;241;43m.\u001b[39;49m\u001b[43mvalues\u001b[49m\u001b[38;5;241;43m.\u001b[39;49m\u001b[43mreshape\u001b[49m(\u001b[38;5;241m1\u001b[39m, \u001b[38;5;241m-\u001b[39m\u001b[38;5;241m1\u001b[39m)            \u001b[38;5;66;03m# get the instance whose name is requested as an array using product_index\u001b[39;00m\n\u001b[0;32m      9\u001b[0m similarity_arr \u001b[38;5;241m=\u001b[39m cosine_similarity(product_row, products_for_similarity)\u001b[38;5;241m.\u001b[39mflatten()\n\u001b[0;32m     11\u001b[0m \u001b[38;5;66;03m# for i in range(len(products_for_similarity)):\u001b[39;00m\n\u001b[0;32m     12\u001b[0m \u001b[38;5;66;03m#     other_row = products_for_similarity.iloc[i].values\u001b[39;00m\n\u001b[0;32m     13\u001b[0m \u001b[38;5;66;03m#     similarity = cosine_sim(product_row, other_row)\u001b[39;00m\n\u001b[0;32m     14\u001b[0m \u001b[38;5;66;03m#     similarity_arr.append((i, similarity))\u001b[39;00m\n",
      "\u001b[1;31mAttributeError\u001b[0m: 'SparseArray' object has no attribute 'reshape'"
     ]
    }
   ],
   "source": [
    "cosine_recommend2(input_name, 5)"
   ]
  },
  {
   "cell_type": "code",
   "execution_count": 54,
   "metadata": {},
   "outputs": [
    {
     "data": {
      "text/plain": [
       "'MAVOTANK Picnic Bag for Women Duffel Bag Large Capacity Folding Travel Bag Multifunctional Fitness Travel Bag, Foldable Tr...'"
      ]
     },
     "execution_count": 54,
     "metadata": {},
     "output_type": "execute_result"
    }
   ],
   "source": [
    "input_name"
   ]
  },
  {
   "cell_type": "code",
   "execution_count": null,
   "metadata": {},
   "outputs": [
    {
     "data": {
      "text/html": [
       "<div>\n",
       "<style scoped>\n",
       "    .dataframe tbody tr th:only-of-type {\n",
       "        vertical-align: middle;\n",
       "    }\n",
       "\n",
       "    .dataframe tbody tr th {\n",
       "        vertical-align: top;\n",
       "    }\n",
       "\n",
       "    .dataframe thead th {\n",
       "        text-align: right;\n",
       "    }\n",
       "</style>\n",
       "<table border=\"1\" class=\"dataframe\">\n",
       "  <thead>\n",
       "    <tr style=\"text-align: right;\">\n",
       "      <th></th>\n",
       "      <th>001</th>\n",
       "      <th>002</th>\n",
       "      <th>01</th>\n",
       "      <th>02</th>\n",
       "      <th>025</th>\n",
       "      <th>03</th>\n",
       "      <th>04</th>\n",
       "      <th>05</th>\n",
       "      <th>06</th>\n",
       "      <th>061384</th>\n",
       "      <th>...</th>\n",
       "      <th>ohTransformer__sub_category_washingmachines</th>\n",
       "      <th>ohTransformer__sub_category_watches</th>\n",
       "      <th>ohTransformer__sub_category_westernwear</th>\n",
       "      <th>ohTransformer__sub_category_womensfashion</th>\n",
       "      <th>ohTransformer__sub_category_yoga</th>\n",
       "      <th>remainder__name</th>\n",
       "      <th>remainder__ratings</th>\n",
       "      <th>remainder__no_of_ratings</th>\n",
       "      <th>remainder__actual_price</th>\n",
       "      <th>remainder__discount_price</th>\n",
       "    </tr>\n",
       "  </thead>\n",
       "  <tbody>\n",
       "    <tr>\n",
       "      <th>0</th>\n",
       "      <td>0.0</td>\n",
       "      <td>0.0</td>\n",
       "      <td>0.0</td>\n",
       "      <td>0.0</td>\n",
       "      <td>0.0</td>\n",
       "      <td>0.0</td>\n",
       "      <td>0.0</td>\n",
       "      <td>0.0</td>\n",
       "      <td>0.0</td>\n",
       "      <td>0.0</td>\n",
       "      <td>...</td>\n",
       "      <td>0</td>\n",
       "      <td>0</td>\n",
       "      <td>0</td>\n",
       "      <td>0</td>\n",
       "      <td>0</td>\n",
       "      <td>EASYDEX Ph Pen Teste Thzy High Accuracy Pocket...</td>\n",
       "      <td>0.711519</td>\n",
       "      <td>0.000613</td>\n",
       "      <td>0.003153</td>\n",
       "      <td>0.002104</td>\n",
       "    </tr>\n",
       "  </tbody>\n",
       "</table>\n",
       "<p>1 rows × 5129 columns</p>\n",
       "</div>"
      ],
      "text/plain": [
       "   001  002   01   02  025   03   04   05   06  061384  ...  \\\n",
       "0  0.0  0.0  0.0  0.0  0.0  0.0  0.0  0.0  0.0     0.0  ...   \n",
       "\n",
       "   ohTransformer__sub_category_washingmachines  \\\n",
       "0                                            0   \n",
       "\n",
       "   ohTransformer__sub_category_watches  \\\n",
       "0                                    0   \n",
       "\n",
       "   ohTransformer__sub_category_westernwear  \\\n",
       "0                                        0   \n",
       "\n",
       "   ohTransformer__sub_category_womensfashion  \\\n",
       "0                                          0   \n",
       "\n",
       "   ohTransformer__sub_category_yoga  \\\n",
       "0                                 0   \n",
       "\n",
       "                                     remainder__name  remainder__ratings  \\\n",
       "0  EASYDEX Ph Pen Teste Thzy High Accuracy Pocket...            0.711519   \n",
       "\n",
       "   remainder__no_of_ratings  remainder__actual_price  \\\n",
       "0                  0.000613                 0.003153   \n",
       "\n",
       "   remainder__discount_price  \n",
       "0                   0.002104  \n",
       "\n",
       "[1 rows x 5129 columns]"
      ]
     },
     "execution_count": 72,
     "metadata": {},
     "output_type": "execute_result"
    }
   ],
   "source": [
    "all_products.head(1)"
   ]
  }
 ],
 "metadata": {
  "kernelspec": {
   "display_name": "Python 3",
   "language": "python",
   "name": "python3"
  },
  "language_info": {
   "codemirror_mode": {
    "name": "ipython",
    "version": 3
   },
   "file_extension": ".py",
   "mimetype": "text/x-python",
   "name": "python",
   "nbconvert_exporter": "python",
   "pygments_lexer": "ipython3",
   "version": "3.9.0"
  }
 },
 "nbformat": 4,
 "nbformat_minor": 2
}
